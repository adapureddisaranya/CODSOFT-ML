{
 "cells": [
  {
   "cell_type": "code",
   "execution_count": 30,
   "id": "1bfe432a-b892-430b-bcda-d3a14e6c3950",
   "metadata": {},
   "outputs": [],
   "source": [
    "import pandas as pd\n",
    "import numpy as np\n",
    "from sklearn.model_selection import train_test_split\n",
    "from sklearn.naive_bayes import MultinomialNB\n",
    "from sklearn.metrics import accuracy_score,classification_report\n",
    "from tqdm import tqdm"
   ]
  },
  {
   "cell_type": "code",
   "execution_count": 31,
   "id": "b1b92790-1029-4a97-8d7b-4fbd865c50b4",
   "metadata": {},
   "outputs": [],
   "source": [
    "data=pd.read_csv('spam.csv',encoding='latin-1')"
   ]
  },
  {
   "cell_type": "code",
   "execution_count": 32,
   "id": "5d3cae18-506c-4ead-a40c-f24e7df4b028",
   "metadata": {},
   "outputs": [],
   "source": [
    "data.drop_duplicates(inplace=True)"
   ]
  },
  {
   "cell_type": "code",
   "execution_count": 33,
   "id": "00b85e60-a186-4124-ab0d-600b2e4b5265",
   "metadata": {},
   "outputs": [],
   "source": [
    "data['label'] = data['v1'].map({'ham': 'ham', 'spam': 'spam'})  # This step could be simplified\n",
    "X = data['v2']\n",
    "Y = data['label']\n"
   ]
  },
  {
   "cell_type": "code",
   "execution_count": 35,
   "id": "3ee6adeb-ba7a-4080-a179-3bbf205a0c75",
   "metadata": {},
   "outputs": [],
   "source": [
    "X_train, X_test, Y_train, Y_test = train_test_split(X, Y, test_size=0.2, random_state=42)"
   ]
  },
  {
   "cell_type": "code",
   "execution_count": 36,
   "id": "160ebe37-7157-4969-9897-2081cba48717",
   "metadata": {},
   "outputs": [
    {
     "name": "stdout",
     "output_type": "stream",
     "text": [
      "2228                       Those were my exact intentions\n",
      "5529                            What about this one then.\n",
      "2149                   Waaaat?? Lololo ok next time then!\n",
      "5058    Free video camera phones with Half Price line ...\n",
      "5051    Tick, tick, tick .... Where are you ? I could ...\n",
      "                              ...                        \n",
      "4740    Many more happy returns of the day. I wish you...\n",
      "474     Nice line said by a broken heart- Plz don't cu...\n",
      "3266                    Ok then i come n pick u at engin?\n",
      "4016    Eek that's a lot of time especially since Amer...\n",
      "879     U have a Secret Admirer who is looking 2 make ...\n",
      "Name: v2, Length: 4135, dtype: object\n",
      "1617                        Did u download the fring app?\n",
      "2064    Pass dis to all ur contacts n see wat u get! R...\n",
      "1272                                                Ok...\n",
      "3020                       Am in film ill call you later.\n",
      "3642    Sorry, left phone upstairs. OK, might be hecti...\n",
      "                              ...                        \n",
      "4146    Pls help me tell sura that i'm expecting a bat...\n",
      "1208                      Also maaaan are you missing out\n",
      "4795    URGENT This is our 2nd attempt to contact U. Y...\n",
      "3575    The sign of maturity is not when we start sayi...\n",
      "2820                Oh god..taken the teeth?is it paining\n",
      "Name: v2, Length: 1034, dtype: object\n",
      "2228     ham\n",
      "5529     ham\n",
      "2149     ham\n",
      "5058    spam\n",
      "5051     ham\n",
      "        ... \n",
      "4740     ham\n",
      "474      ham\n",
      "3266     ham\n",
      "4016     ham\n",
      "879     spam\n",
      "Name: label, Length: 4135, dtype: object\n",
      "1617     ham\n",
      "2064     ham\n",
      "1272     ham\n",
      "3020     ham\n",
      "3642     ham\n",
      "        ... \n",
      "4146     ham\n",
      "1208     ham\n",
      "4795    spam\n",
      "3575     ham\n",
      "2820     ham\n",
      "Name: label, Length: 1034, dtype: object\n"
     ]
    }
   ],
   "source": [
    "print(X_train)\n",
    "print(X_test)\n",
    "print(Y_train)\n",
    "print(Y_test)"
   ]
  },
  {
   "cell_type": "code",
   "execution_count": 37,
   "id": "773f2b6d-8cf7-4a78-9835-1f751cdc26b8",
   "metadata": {},
   "outputs": [],
   "source": [
    "from sklearn.feature_extraction.text import TfidfVectorizer\n"
   ]
  },
  {
   "cell_type": "code",
   "execution_count": 38,
   "id": "49a33180-ee57-4fbf-846e-300f530fc838",
   "metadata": {},
   "outputs": [],
   "source": [
    "tfidf_vectorizer = TfidfVectorizer()"
   ]
  },
  {
   "cell_type": "code",
   "execution_count": 39,
   "id": "af98d2ca-4cca-4439-881a-e32e32cdcd12",
   "metadata": {},
   "outputs": [],
   "source": [
    "X_train_tfidf = tfidf_vectorizer.fit_transform(X_train)"
   ]
  },
  {
   "cell_type": "code",
   "execution_count": 40,
   "id": "e694c9c6-1e3d-4b55-8263-33dbc4ae8099",
   "metadata": {},
   "outputs": [],
   "source": [
    "classifier=MultinomialNB()"
   ]
  },
  {
   "cell_type": "code",
   "execution_count": 41,
   "id": "d3b2f0d1-4755-4c02-b736-796c90e6b3b6",
   "metadata": {},
   "outputs": [
    {
     "data": {
      "text/html": [
       "<style>#sk-container-id-2 {color: black;background-color: white;}#sk-container-id-2 pre{padding: 0;}#sk-container-id-2 div.sk-toggleable {background-color: white;}#sk-container-id-2 label.sk-toggleable__label {cursor: pointer;display: block;width: 100%;margin-bottom: 0;padding: 0.3em;box-sizing: border-box;text-align: center;}#sk-container-id-2 label.sk-toggleable__label-arrow:before {content: \"▸\";float: left;margin-right: 0.25em;color: #696969;}#sk-container-id-2 label.sk-toggleable__label-arrow:hover:before {color: black;}#sk-container-id-2 div.sk-estimator:hover label.sk-toggleable__label-arrow:before {color: black;}#sk-container-id-2 div.sk-toggleable__content {max-height: 0;max-width: 0;overflow: hidden;text-align: left;background-color: #f0f8ff;}#sk-container-id-2 div.sk-toggleable__content pre {margin: 0.2em;color: black;border-radius: 0.25em;background-color: #f0f8ff;}#sk-container-id-2 input.sk-toggleable__control:checked~div.sk-toggleable__content {max-height: 200px;max-width: 100%;overflow: auto;}#sk-container-id-2 input.sk-toggleable__control:checked~label.sk-toggleable__label-arrow:before {content: \"▾\";}#sk-container-id-2 div.sk-estimator input.sk-toggleable__control:checked~label.sk-toggleable__label {background-color: #d4ebff;}#sk-container-id-2 div.sk-label input.sk-toggleable__control:checked~label.sk-toggleable__label {background-color: #d4ebff;}#sk-container-id-2 input.sk-hidden--visually {border: 0;clip: rect(1px 1px 1px 1px);clip: rect(1px, 1px, 1px, 1px);height: 1px;margin: -1px;overflow: hidden;padding: 0;position: absolute;width: 1px;}#sk-container-id-2 div.sk-estimator {font-family: monospace;background-color: #f0f8ff;border: 1px dotted black;border-radius: 0.25em;box-sizing: border-box;margin-bottom: 0.5em;}#sk-container-id-2 div.sk-estimator:hover {background-color: #d4ebff;}#sk-container-id-2 div.sk-parallel-item::after {content: \"\";width: 100%;border-bottom: 1px solid gray;flex-grow: 1;}#sk-container-id-2 div.sk-label:hover label.sk-toggleable__label {background-color: #d4ebff;}#sk-container-id-2 div.sk-serial::before {content: \"\";position: absolute;border-left: 1px solid gray;box-sizing: border-box;top: 0;bottom: 0;left: 50%;z-index: 0;}#sk-container-id-2 div.sk-serial {display: flex;flex-direction: column;align-items: center;background-color: white;padding-right: 0.2em;padding-left: 0.2em;position: relative;}#sk-container-id-2 div.sk-item {position: relative;z-index: 1;}#sk-container-id-2 div.sk-parallel {display: flex;align-items: stretch;justify-content: center;background-color: white;position: relative;}#sk-container-id-2 div.sk-item::before, #sk-container-id-2 div.sk-parallel-item::before {content: \"\";position: absolute;border-left: 1px solid gray;box-sizing: border-box;top: 0;bottom: 0;left: 50%;z-index: -1;}#sk-container-id-2 div.sk-parallel-item {display: flex;flex-direction: column;z-index: 1;position: relative;background-color: white;}#sk-container-id-2 div.sk-parallel-item:first-child::after {align-self: flex-end;width: 50%;}#sk-container-id-2 div.sk-parallel-item:last-child::after {align-self: flex-start;width: 50%;}#sk-container-id-2 div.sk-parallel-item:only-child::after {width: 0;}#sk-container-id-2 div.sk-dashed-wrapped {border: 1px dashed gray;margin: 0 0.4em 0.5em 0.4em;box-sizing: border-box;padding-bottom: 0.4em;background-color: white;}#sk-container-id-2 div.sk-label label {font-family: monospace;font-weight: bold;display: inline-block;line-height: 1.2em;}#sk-container-id-2 div.sk-label-container {text-align: center;}#sk-container-id-2 div.sk-container {/* jupyter's `normalize.less` sets `[hidden] { display: none; }` but bootstrap.min.css set `[hidden] { display: none !important; }` so we also need the `!important` here to be able to override the default hidden behavior on the sphinx rendered scikit-learn.org. See: https://github.com/scikit-learn/scikit-learn/issues/21755 */display: inline-block !important;position: relative;}#sk-container-id-2 div.sk-text-repr-fallback {display: none;}</style><div id=\"sk-container-id-2\" class=\"sk-top-container\"><div class=\"sk-text-repr-fallback\"><pre>MultinomialNB()</pre><b>In a Jupyter environment, please rerun this cell to show the HTML representation or trust the notebook. <br />On GitHub, the HTML representation is unable to render, please try loading this page with nbviewer.org.</b></div><div class=\"sk-container\" hidden><div class=\"sk-item\"><div class=\"sk-estimator sk-toggleable\"><input class=\"sk-toggleable__control sk-hidden--visually\" id=\"sk-estimator-id-2\" type=\"checkbox\" checked><label for=\"sk-estimator-id-2\" class=\"sk-toggleable__label sk-toggleable__label-arrow\">MultinomialNB</label><div class=\"sk-toggleable__content\"><pre>MultinomialNB()</pre></div></div></div></div></div>"
      ],
      "text/plain": [
       "MultinomialNB()"
      ]
     },
     "execution_count": 41,
     "metadata": {},
     "output_type": "execute_result"
    }
   ],
   "source": [
    "classifier.fit(X_train_tfidf,Y_train)"
   ]
  },
  {
   "cell_type": "code",
   "execution_count": 42,
   "id": "604c6f9f-9bba-4559-b388-ac1538a89edb",
   "metadata": {},
   "outputs": [],
   "source": [
    "X_test_tfidf = tfidf_vectorizer.transform(X_test)"
   ]
  },
  {
   "cell_type": "code",
   "execution_count": 43,
   "id": "660668dc-35f7-4976-aead-5a43d35baebb",
   "metadata": {},
   "outputs": [],
   "source": [
    "Y_pred = classifier.predict(X_test_tfidf)"
   ]
  },
  {
   "cell_type": "code",
   "execution_count": 44,
   "id": "fa0b30eb-62d8-4824-8779-5f68319a01d2",
   "metadata": {},
   "outputs": [],
   "source": [
    "accuracy = accuracy_score(Y_test, Y_pred)"
   ]
  },
  {
   "cell_type": "code",
   "execution_count": 45,
   "id": "859448b1-31ea-442e-a10d-0afc72cc87d0",
   "metadata": {},
   "outputs": [],
   "source": [
    "report = classification_report(Y_test, Y_pred, target_names=['Legitimate SMS', 'spam SMS'])\n"
   ]
  },
  {
   "cell_type": "code",
   "execution_count": 46,
   "id": "bbd049dd-205d-46be-9ed4-733bebe48269",
   "metadata": {},
   "outputs": [
    {
     "name": "stderr",
     "output_type": "stream",
     "text": [
      "  0%|          | 0/100 [00:00<?, ?it/s]"
     ]
    }
   ],
   "source": [
    "progress_bar = tqdm(total=100, position=0, leave=True)"
   ]
  },
  {
   "cell_type": "code",
   "execution_count": 47,
   "id": "191c7e41-c8db-437c-9f05-02ed98c2fe1e",
   "metadata": {},
   "outputs": [
    {
     "name": "stderr",
     "output_type": "stream",
     "text": [
      "Progress: 100%: 100%|██████████| 100/100 [00:02<00:00,  4.67it/s]"
     ]
    }
   ],
   "source": [
    "for i in range(10, 101, 10):\n",
    "    progress_bar.update(10)\n",
    "    progress_bar.set_description(f'Progress: {i}%')"
   ]
  },
  {
   "cell_type": "code",
   "execution_count": 48,
   "id": "c462cf2d-4849-4a41-b14a-fa9a4fdaa669",
   "metadata": {},
   "outputs": [
    {
     "name": "stderr",
     "output_type": "stream",
     "text": [
      "Progress: 100%: 100%|██████████| 100/100 [00:04<00:00, 25.00it/s]\n"
     ]
    }
   ],
   "source": [
    "progress_bar.close()"
   ]
  },
  {
   "cell_type": "code",
   "execution_count": 49,
   "id": "8d130dec-6584-46db-8dc5-d3cbb4333360",
   "metadata": {},
   "outputs": [
    {
     "name": "stdout",
     "output_type": "stream",
     "text": [
      "Accuracy: 0.96\n"
     ]
    }
   ],
   "source": [
    "print(f'Accuracy: {accuracy:.2f}')"
   ]
  },
  {
   "cell_type": "code",
   "execution_count": 50,
   "id": "fc8f9702-9d2c-41a2-9f82-62516c54acb7",
   "metadata": {},
   "outputs": [
    {
     "name": "stdout",
     "output_type": "stream",
     "text": [
      "Classification Report:\n",
      "                precision    recall  f1-score   support\n",
      "\n",
      "Legitimate SMS       0.95      1.00      0.97       889\n",
      "      spam SMS       1.00      0.68      0.81       145\n",
      "\n",
      "      accuracy                           0.96      1034\n",
      "     macro avg       0.98      0.84      0.89      1034\n",
      "  weighted avg       0.96      0.96      0.95      1034\n",
      "\n"
     ]
    }
   ],
   "source": [
    "print('Classification Report:')\n",
    "print(report)"
   ]
  },
  {
   "cell_type": "code",
   "execution_count": null,
   "id": "e60dc2f8-c99e-497d-805e-d8e48cdc3b56",
   "metadata": {},
   "outputs": [],
   "source": []
  }
 ],
 "metadata": {
  "kernelspec": {
   "display_name": "Python 3 (ipykernel)",
   "language": "python",
   "name": "python3"
  },
  "language_info": {
   "codemirror_mode": {
    "name": "ipython",
    "version": 3
   },
   "file_extension": ".py",
   "mimetype": "text/x-python",
   "name": "python",
   "nbconvert_exporter": "python",
   "pygments_lexer": "ipython3",
   "version": "3.11.7"
  }
 },
 "nbformat": 4,
 "nbformat_minor": 5
}
