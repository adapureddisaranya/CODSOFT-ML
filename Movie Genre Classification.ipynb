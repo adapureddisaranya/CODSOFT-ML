{
 "cells": [
  {
   "cell_type": "code",
   "execution_count": 50,
   "id": "bdc8d928-f7db-4786-a715-7d51a3e73880",
   "metadata": {},
   "outputs": [],
   "source": [
    "import pandas as pd\n",
    "import numpy as np\n",
    "from sklearn.feature_extraction.text import TfidfVectorizer\n",
    "from sklearn.multioutput import MultiOutputClassifier\n",
    "from sklearn.naive_bayes import MultinomialNB\n",
    "from sklearn.preprocessing import MultiLabelBinarizer\n",
    "from sklearn.metrics import accuracy_score, precision_score, recall_score, f1_score\n",
    "from tqdm import tqdm\n",
    "\n"
   ]
  },
  {
   "cell_type": "code",
   "execution_count": 51,
   "id": "ad0362df-b642-4ec2-8f10-c7b6fdde5e93",
   "metadata": {},
   "outputs": [],
   "source": [
    "genre_list=['action','adult','animation','biography','comedy','crime','documnetry','family','fantasy','game-show','history','horror','music','musical','mystery','news','reality-tv','romance','sci-fi','short','sport','talk-show','thriller','war','western']"
   ]
  },
  {
   "cell_type": "code",
   "execution_count": 52,
   "id": "c7f70043-e11a-4374-876c-2c270fdfbd6f",
   "metadata": {},
   "outputs": [],
   "source": [
    "fallback_genre='Unknown'"
   ]
  },
  {
   "cell_type": "code",
   "execution_count": 53,
   "id": "f1df8ab8-c465-4538-b8ce-b95d20adfc81",
   "metadata": {},
   "outputs": [
    {
     "name": "stderr",
     "output_type": "stream",
     "text": [
      "Loading Train Data: 100%|██████████| 50/50 [00:01<00:00, 46.47it/s]"
     ]
    },
    {
     "name": "stdout",
     "output_type": "stream",
     "text": [
      "Shape of train_data: (54214, 4)\n",
      "                                        SerialNumber MOVIE_NAME GENRE  \\\n",
      "0  1 ::: Oscar et la dame rose (2009) ::: drama :...       None  None   \n",
      "1  2 ::: Cupid (1997) ::: thriller ::: A brother ...       None  None   \n",
      "2  3 ::: Young, Wild and Wonderful (1980) ::: adu...       None  None   \n",
      "3  4 ::: The Secret Sin (1915) ::: drama ::: To h...       None  None   \n",
      "4  5 ::: The Unrecovered (2007) ::: drama ::: The...       None  None   \n",
      "\n",
      "  MOVIE_PLOT  \n",
      "0       None  \n",
      "1       None  \n",
      "2       None  \n",
      "3       None  \n",
      "4       None  \n",
      "SerialNumber      111\n",
      "MOVIE_NAME      54011\n",
      "GENRE           54211\n",
      "MOVIE_PLOT      54213\n",
      "dtype: int64\n"
     ]
    },
    {
     "name": "stderr",
     "output_type": "stream",
     "text": [
      "\n"
     ]
    }
   ],
   "source": [
    "try:\n",
    "    with tqdm(total=50, desc=\"Loading Train Data\") as pbar:\n",
    "        train_data = pd.read_csv('train_data.txt.zip', sep='111', header=None, names=['SerialNumber', 'MOVIE_NAME', 'GENRE', 'MOVIE_PLOT'], engine='python')\n",
    "        pbar.update(50)\n",
    "except Exception as e:\n",
    "    print(f\"Error loading train_data: {e}\")\n",
    "    raise\n",
    "print(\"Shape of train_data:\", train_data.shape)\n",
    "print(train_data.head())\n",
    "print(train_data.isnull().sum())\n",
    "\n"
   ]
  },
  {
   "cell_type": "code",
   "execution_count": 54,
   "id": "b3247c10-f1a2-4db1-bbb5-944f44ab95b4",
   "metadata": {},
   "outputs": [
    {
     "name": "stdout",
     "output_type": "stream",
     "text": [
      "Shape of X_train: (54214,)\n",
      "                                        SerialNumber MOVIE_NAME GENRE  \\\n",
      "0  1 ::: Oscar et la dame rose (2009) ::: drama :...       None         \n",
      "1  2 ::: Cupid (1997) ::: thriller ::: A brother ...       None         \n",
      "2  3 ::: Young, Wild and Wonderful (1980) ::: adu...       None         \n",
      "3  4 ::: The Secret Sin (1915) ::: drama ::: To h...       None         \n",
      "4  5 ::: The Unrecovered (2007) ::: drama ::: The...       None         \n",
      "\n",
      "  MOVIE_PLOT  \n",
      "0       None  \n",
      "1       None  \n",
      "2       None  \n",
      "3       None  \n",
      "4       None  \n",
      "Number of genre labels: 54214\n",
      "[[''], [''], [''], [''], ['']]\n"
     ]
    }
   ],
   "source": [
    "X_train = train_data['MOVIE_PLOT'].astype(str).apply(lambda doc: doc.lower())\n",
    "print(\"Shape of X_train:\", X_train.shape)\n",
    "train_data['GENRE'] = train_data['GENRE'].fillna('')\n",
    "print(train_data.head())\n",
    "genre_labels = [genre.split(', ') for genre in train_data['GENRE']]\n",
    "print(\"Number of genre labels:\", len(genre_labels))\n",
    "print(genre_labels[:5])\n",
    "mlb = MultiLabelBinarizer()\n",
    "Y_train = mlb.fit_transform(genre_labels)\n",
    "assert len(X_train) == len(genre_labels), \"Number of samples in X_train and genre_labels do not match.\"\n"
   ]
  },
  {
   "cell_type": "code",
   "execution_count": 55,
   "id": "6bd50bd0-2ae3-4869-af1e-c1a4f783ad10",
   "metadata": {},
   "outputs": [],
   "source": [
    "tfidf_vectorizer = TfidfVectorizer(max_features=5000)"
   ]
  },
  {
   "cell_type": "code",
   "execution_count": 56,
   "id": "9a45544a-339e-45c3-b8af-43865de8b00c",
   "metadata": {},
   "outputs": [
    {
     "name": "stderr",
     "output_type": "stream",
     "text": [
      "Vectorizing Training Data: 100%|██████████| 50/50 [00:00<00:00, 156.88it/s]"
     ]
    },
    {
     "name": "stdout",
     "output_type": "stream",
     "text": [
      "Shape of X_train_tfidf: (54214, 116)\n"
     ]
    },
    {
     "name": "stderr",
     "output_type": "stream",
     "text": [
      "\n"
     ]
    }
   ],
   "source": [
    "with tqdm(total=50, desc=\"Vectorizing Training Data\") as pbar:\n",
    "    X_train_tfidf = tfidf_vectorizer.fit_transform(X_train)\n",
    "    pbar.update(50)\n",
    "print(\"Shape of X_train_tfidf:\", X_train_tfidf.shape)\n",
    "    "
   ]
  },
  {
   "cell_type": "code",
   "execution_count": 57,
   "id": "dfd23407-ff46-486e-adc2-82a4a5a331db",
   "metadata": {},
   "outputs": [
    {
     "name": "stderr",
     "output_type": "stream",
     "text": [
      "Training Model: 100%|██████████| 50/50 [00:00<00:00, 520.30it/s]\n"
     ]
    }
   ],
   "source": [
    "with tqdm(total=50, desc=\"Training Model\") as pbar:\n",
    "    naive_bayes = MultinomialNB()\n",
    "    multi_output_classifier = MultiOutputClassifier(naive_bayes)\n",
    "    multi_output_classifier.fit(X_train_tfidf, Y_train)\n",
    "    pbar.update(50)"
   ]
  },
  {
   "cell_type": "code",
   "execution_count": 58,
   "id": "9f4c1a2c-60fc-4f68-bfa4-d8d19155fa90",
   "metadata": {},
   "outputs": [
    {
     "name": "stderr",
     "output_type": "stream",
     "text": [
      "Loading Test Data: 100%|██████████| 50/50 [00:00<00:00, 54.58it/s]\n"
     ]
    }
   ],
   "source": [
    "try:\n",
    "    with tqdm(total=50, desc=\"Loading Test Data\") as pbar:\n",
    "        test_data = pd.read_csv('test_data.txt.zip', sep='111', header=None, names=['SerialNumber', 'MOVIE_NAME', 'GENRE', 'MOVIE_PLOT'], engine='python')\n",
    "        pbar.update(50)\n",
    "except Exception as e:\n",
    "    print(f\"Error loading test_data: {e}\")\n",
    "    raise"
   ]
  },
  {
   "cell_type": "code",
   "execution_count": 59,
   "id": "7e9ba27b-1012-4eb1-9b51-1969ea9d996a",
   "metadata": {},
   "outputs": [],
   "source": [
    "X_test = test_data['MOVIE_PLOT'].astype(str).apply(lambda doc: doc.lower())"
   ]
  },
  {
   "cell_type": "code",
   "execution_count": 60,
   "id": "6ace02ae-8be6-431d-adbf-49613b1df7c6",
   "metadata": {},
   "outputs": [
    {
     "name": "stderr",
     "output_type": "stream",
     "text": [
      "Vectorizing Test Data: 100%|██████████| 50/50 [00:00<00:00, 163.19it/s]"
     ]
    },
    {
     "name": "stdout",
     "output_type": "stream",
     "text": [
      "Shape of X_test_tfidf: (54200, 116)\n"
     ]
    },
    {
     "name": "stderr",
     "output_type": "stream",
     "text": [
      "\n"
     ]
    }
   ],
   "source": [
    "with tqdm(total=50, desc=\"Vectorizing Test Data\") as pbar:\n",
    "    X_test_tfidf = tfidf_vectorizer.transform(X_test)\n",
    "    pbar.update(50)\n",
    "    print(\"Shape of X_test_tfidf:\", X_test_tfidf.shape)\n",
    "    \n"
   ]
  },
  {
   "cell_type": "code",
   "execution_count": 61,
   "id": "d4bdc472-4339-46a5-b1d5-ccdf62e1d1b2",
   "metadata": {},
   "outputs": [
    {
     "name": "stderr",
     "output_type": "stream",
     "text": [
      "Predicting Test Data: 100%|██████████| 50/50 [00:00<00:00, 2598.28it/s]\n"
     ]
    }
   ],
   "source": [
    "with tqdm(total=50, desc=\"Predicting Test Data\") as pbar:\n",
    "    Y_pred = multi_output_classifier.predict(X_test_tfidf)\n",
    "    pbar.update(50)"
   ]
  },
  {
   "cell_type": "code",
   "execution_count": 62,
   "id": "75a7b734-d0d5-40bd-a502-3a2fd8092a53",
   "metadata": {},
   "outputs": [],
   "source": [
    "# Assuming test_data is a DataFrame containing the column 'MOVIE_NAME'\n",
    "test_movie_names = test_data['MOVIE_NAME']  # Access the MOVIE_NAME column correctly\n",
    "\n",
    "# Use the inverse_transform method of MultiLabelBinarizer to get the predicted genres\n",
    "predicted_genres = mlb.inverse_transform(Y_pred)\n",
    "\n",
    "# Create a DataFrame with the movie names and their predicted genres\n",
    "test_results = pd.DataFrame({\n",
    "    'MOVIE_NAME': test_movie_names,\n",
    "    'PREDICTED_GENRES': ['; '.join(genres) for genres in predicted_genres]\n",
    "})\n"
   ]
  },
  {
   "cell_type": "code",
   "execution_count": 63,
   "id": "0f6546a7-36c2-4390-859f-3e0697cf9c2b",
   "metadata": {},
   "outputs": [],
   "source": [
    "fallback_genre = 'Unknown'  # If you prefer a single string as a fallback genre\n",
    "test_results['PREDICTED_GENRES'] = test_results['PREDICTED_GENRES'].apply(lambda genres: [fallback_genre] if len(genres) == 0 else genres)\n"
   ]
  },
  {
   "cell_type": "code",
   "execution_count": 64,
   "id": "013690a9-7746-4804-9ef2-f3d78a083bfd",
   "metadata": {},
   "outputs": [],
   "source": [
    "import zipfile"
   ]
  },
  {
   "cell_type": "code",
   "execution_count": 65,
   "id": "c24f22d9-d292-4771-b6c7-f55e4edef259",
   "metadata": {},
   "outputs": [],
   "source": [
    "output_filename = \"test_data_solution.txt\""
   ]
  },
  {
   "cell_type": "code",
   "execution_count": 66,
   "id": "9887498a-1eed-4ac1-af5e-52aaaa0b385b",
   "metadata": {},
   "outputs": [],
   "source": [
    "with zipfile.ZipFile(\"test_data_solution.txt.zip\", \"w\", zipfile.ZIP_DEFLATED) as zip_file:\n",
    "    with zip_file.open(\"test_data_solution.txt\", \"w\") as output_file:\n",
    "        for index, row in test_results.iterrows():\n",
    "            movie_name = row['MOVIE_NAME']\n",
    "            genre_str = ', '.join(row['PREDICTED_GENRES'])\n",
    "            output_file.write(f\"{movie_name} ::: {genre_str}\\n\".encode('utf-8'))"
   ]
  },
  {
   "cell_type": "code",
   "execution_count": 67,
   "id": "7edaef9f-5bc0-4229-996a-393264d6deb0",
   "metadata": {},
   "outputs": [],
   "source": [
    "Y_train_pred = multi_output_classifier.predict(X_train_tfidf)"
   ]
  },
  {
   "cell_type": "code",
   "execution_count": 68,
   "id": "e563789a-c600-43b5-92a6-b61237f82a62",
   "metadata": {},
   "outputs": [],
   "source": [
    "accuracy=accuracy_score(Y_train,Y_train_pred)\n",
    "precision=precision_score(Y_train,Y_train_pred,average='micro')\n",
    "recall=recall_score(Y_train,Y_train_pred,average='micro')\n",
    "f1=f1_score(Y_train,Y_train_pred,average='micro')\n"
   ]
  },
  {
   "cell_type": "code",
   "execution_count": 69,
   "id": "b0bd1c78-45c2-4774-b5bc-c867910fedd4",
   "metadata": {},
   "outputs": [],
   "source": [
    "with open(\"test_data_solution.txt\", \"a\", encoding=\"utf-8\") as output_file:\n",
    "    output_file.write(\"\\n\\nEvaluation:\\n\")\n",
    "    output_file.write(f\"Accuracy: {accuracy * 100:.2f}%\\n\")\n",
    "    output_file.write(f\"Precision: {precision:.2f}\\n\")\n",
    "    output_file.write(f\"Recall: {recall:.2f}\\n\")\n",
    "    output_file.write(f\"F1 Score: {f1:.2f}\\n\")\n"
   ]
  },
  {
   "cell_type": "code",
   "execution_count": 70,
   "id": "51443326-a7ee-4ed1-8682-09cc647d8b4b",
   "metadata": {},
   "outputs": [
    {
     "name": "stdout",
     "output_type": "stream",
     "text": [
      "Evaluation has been saved to 'test_data_solution.txt'.\n"
     ]
    }
   ],
   "source": [
    "print(\"Evaluation has been saved to 'test_data_solution.txt'.\")\n"
   ]
  },
  {
   "cell_type": "code",
   "execution_count": 71,
   "id": "5c44f78b-d795-4a45-9593-01d3b7f2522e",
   "metadata": {},
   "outputs": [
    {
     "name": "stdout",
     "output_type": "stream",
     "text": [
      "\n",
      "\n",
      "Evaluation:\n",
      "Accuracy: 99.99%\n",
      "Precision: 1.00\n",
      "Recall: 1.00\n",
      "F1 Score: 1.00\n",
      "\n",
      "\n",
      "Evaluation:\n",
      "Accuracy: 99.99%\n",
      "Precision: 1.00\n",
      "Recall: 1.00\n",
      "F1 Score: 1.00\n",
      "\n",
      "\n",
      "Evaluation:\n",
      "Accuracy: 99.99%\n",
      "Precision: 1.00\n",
      "Recall: 1.00\n",
      "F1 Score: 1.00\n",
      "\n"
     ]
    }
   ],
   "source": [
    "# Open the file for reading\n",
    "with open('test_data_solution.txt', 'r', encoding='utf-8') as file:\n",
    "    # Read the entire contents of the file\n",
    "    saved_data = file.read()\n",
    "\n",
    "# Print the saved data\n",
    "print(saved_data)"
   ]
  },
  {
   "cell_type": "code",
   "execution_count": null,
   "id": "c4c7562d-5df6-43d0-bff8-2ae537e82caf",
   "metadata": {},
   "outputs": [],
   "source": []
  }
 ],
 "metadata": {
  "kernelspec": {
   "display_name": "Python 3 (ipykernel)",
   "language": "python",
   "name": "python3"
  },
  "language_info": {
   "codemirror_mode": {
    "name": "ipython",
    "version": 3
   },
   "file_extension": ".py",
   "mimetype": "text/x-python",
   "name": "python",
   "nbconvert_exporter": "python",
   "pygments_lexer": "ipython3",
   "version": "3.11.7"
  }
 },
 "nbformat": 4,
 "nbformat_minor": 5
}
